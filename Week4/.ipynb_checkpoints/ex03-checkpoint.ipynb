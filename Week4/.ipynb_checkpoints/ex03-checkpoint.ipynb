{
 "cells": [
  {
   "cell_type": "code",
   "execution_count": 29,
   "metadata": {
    "collapsed": true
   },
   "outputs": [],
   "source": [
    "%matplotlib inline\n",
    "import numpy as np\n",
    "import matplotlib.pyplot as plt"
   ]
  },
  {
   "cell_type": "code",
   "execution_count": 30,
   "metadata": {
    "collapsed": true
   },
   "outputs": [],
   "source": [
    "from ipywidgets import interact"
   ]
  },
  {
   "cell_type": "code",
   "execution_count": 11,
   "metadata": {},
   "outputs": [
    {
     "data": {
      "text/plain": [
       "dict"
      ]
     },
     "execution_count": 11,
     "metadata": {},
     "output_type": "execute_result"
    }
   ],
   "source": [
    "dep = [\"土語系\", \"財政系\", \"金融系\", \"國貿系\", \"會計系\", \"法律系\", \"公行系\", \"應數系\", \"教育系\"]\n",
    "weights = {\n",
    "dep[0]: [2, 2, 0, 1, 0, 0, 0, 1, 1, 0],\n",
    "dep[1]: [1, 1.5, 0, 1.5, 0, 0, 0, 0, 0, 0],\n",
    "dep[2]: [1, 1.5, 0, 2, 0, 0, 0, 0, 0, 0],\n",
    "dep[3]: [1.5, 2, 0, 2, 0, 0, 0, 0, 0, 0],\n",
    "dep[4]: [1.5, 2, 0, 2, 0, 0, 0, 1, 1, 0],\n",
    "dep[5]: [1, 2, 0, 1, 0, 0, 0, 1, 0, 1],\n",
    "dep[6]: [1, 1.5, 0, 1.25, 0, 0, 0, 0, 0, 1.25],\n",
    "dep[7]: [1, 1, 1.5, 0, 1, 1, 0, 0, 0, 0],\n",
    "dep[8]: [1.5, 2, 0, 1.25, 0, 0, 0, 1, 1, 0]\n",
    "} "
   ]
  },
  {
   "cell_type": "code",
   "execution_count": 32,
   "metadata": {
    "collapsed": true
   },
   "outputs": [],
   "source": [
    "grades = np.array([86.5, 79.4, 88.2, 96.5, 86.3, 76.8, 96.1, 78.5, 82.4, 88.6])"
   ]
  },
  {
   "cell_type": "code",
   "execution_count": 33,
   "metadata": {
    "collapsed": true
   },
   "outputs": [],
   "source": [
    "def weight_sum(x):\n",
    "    print(\"加權分數為：{:.1f}\".format(np.dot(np.array(weights[x]), grades)))"
   ]
  },
  {
   "cell_type": "code",
   "execution_count": 34,
   "metadata": {},
   "outputs": [
    {
     "data": {
      "application/vnd.jupyter.widget-view+json": {
       "model_id": "7c289e2685bb495ea408c250f3f90b15"
      }
     },
     "metadata": {},
     "output_type": "display_data"
    },
    {
     "data": {
      "text/plain": [
       "<function __main__.weight_sum>"
      ]
     },
     "execution_count": 34,
     "metadata": {},
     "output_type": "execute_result"
    }
   ],
   "source": [
    "interact(weight_sum, x=dep)"
   ]
  },
  {
   "cell_type": "code",
   "execution_count": null,
   "metadata": {
    "collapsed": true
   },
   "outputs": [],
   "source": []
  }
 ],
 "metadata": {
  "kernelspec": {
   "display_name": "Python 3",
   "language": "python",
   "name": "python3"
  },
  "language_info": {
   "codemirror_mode": {
    "name": "ipython",
    "version": 3
   },
   "file_extension": ".py",
   "mimetype": "text/x-python",
   "name": "python",
   "nbconvert_exporter": "python",
   "pygments_lexer": "ipython3",
   "version": "3.5.3"
  }
 },
 "nbformat": 4,
 "nbformat_minor": 2
}
