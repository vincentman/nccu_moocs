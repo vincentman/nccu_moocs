{
 "cells": [
  {
   "cell_type": "markdown",
   "metadata": {},
   "source": [
    "# 第四週作業\n",
    "成績比重: 10%\n",
    "期限: 2017-11-22 23:59 (不允許遲交)\n",
    "屬性: 個人作業, 結束後開放觀摩, 開放成績查詢\n",
    "同儕互評: 11-22 23:59 ~ 11-29 23:59 開放\n",
    "描述:\n",
    "（請從中至少挑一題完成）"
   ]
  },
  {
   "cell_type": "markdown",
   "metadata": {},
   "source": [
    "## 第一題：抽點系統\n",
    "老師想做一個抽點系統, 也就是按一個鍵就抽一位同學出來。某班同學有大雄、胖虎、小夫、宜靜、小杉。\n",
    "\n",
    "請幫老師寫個點名系統。\n",
    "\n",
    "### Hint\n",
    "interact_manual 用到的函數可以不用有任何參數\n",
    "np.random.choice 會從一個 list 隨機取一個元素出來"
   ]
  },
  {
   "cell_type": "code",
   "execution_count": 1,
   "metadata": {},
   "outputs": [],
   "source": [
    "%matplotlib inline\n",
    "import numpy as np\n",
    "import matplotlib.pyplot as plt\n",
    "from ipywidgets import interact_manual\n",
    "from ipywidgets import interact"
   ]
  },
  {
   "cell_type": "code",
   "execution_count": 2,
   "metadata": {},
   "outputs": [
    {
     "data": {
      "application/vnd.jupyter.widget-view+json": {
       "model_id": "e0301570f3164bd9841131bfd1ceaa49"
      }
     },
     "metadata": {},
     "output_type": "display_data"
    },
    {
     "data": {
      "text/plain": [
       "<function __main__.choose>"
      ]
     },
     "execution_count": 2,
     "metadata": {},
     "output_type": "execute_result"
    }
   ],
   "source": [
    "def choose():\n",
    "    ary = np.array(['大雄','胖虎','小夫','宜靜','小杉'])\n",
    "    return np.random.choice(ary)\n",
    "\n",
    "interact_manual(choose)"
   ]
  },
  {
   "cell_type": "markdown",
   "metadata": {},
   "source": [
    "## 第二題：變長變短\n",
    "做一個數值滑桿, 數字變大某個 bar 就變長或變短。\n",
    "bar = \"■\"\n",
    "\n",
    "### 範例輸出\n",
    "image\n",
    "\n",
    "### Hint\n",
    "需要先寫一個輸入數字會印出對應長度bar的function"
   ]
  },
  {
   "cell_type": "code",
   "execution_count": 3,
   "metadata": {},
   "outputs": [
    {
     "data": {
      "application/vnd.jupyter.widget-view+json": {
       "model_id": "e6259445eb444493b7c07421a7ae097f"
      }
     },
     "metadata": {},
     "output_type": "display_data"
    },
    {
     "data": {
      "text/plain": [
       "<function __main__.bar>"
      ]
     },
     "execution_count": 3,
     "metadata": {},
     "output_type": "execute_result"
    }
   ],
   "source": [
    "from ipywidgets import interact\n",
    "\n",
    "def bar(num):\n",
    "    print(\"■\" * num)\n",
    "    \n",
    "interact(bar,num=(1,100))"
   ]
  },
  {
   "cell_type": "code",
   "execution_count": null,
   "metadata": {
    "collapsed": true
   },
   "outputs": [],
   "source": []
  },
  {
   "cell_type": "markdown",
   "metadata": {},
   "source": [
    "## 第三題：考試加權分數\n",
    "小明今年考大學\n",
    "依照 [國, 英, 數甲, 數乙, 物, 化, 生, 歷, 地, 公]\n",
    "他的分數分別是 [86.5, 79.4, 88.2, 96.5, 86.3, 76.8, 96.1, 78.5, 82.4, 88.6]\n",
    "而他所想申請的大學各系採計的科目權重分別是\n",
    "{\n",
    "\"土語系\": [2, 2, 0, 1, 0, 0, 0, 1, 1, 0],\n",
    "\"財政系\": [1, 1.5, 0, 1.5, 0, 0, 0, 0, 0, 0],\n",
    "\"金融系\": [1, 1.5, 0, 2, 0, 0, 0, 0, 0, 0],\n",
    "\"國貿系\": [1.5, 2, 0, 2, 0, 0, 0, 0, 0, 0],\n",
    "\"會計系\": [1.5, 2, 0, 2, 0, 0, 0, 1, 1, 0],\n",
    "\"法律系\": [1, 2, 0, 1, 0, 0, 0, 1, 0, 1],\n",
    "\"公行系\": [1, 1.5, 0, 1.25, 0, 0, 0, 0, 0, 1.25],\n",
    "\"應數系\": [1, 1, 1.5, 0, 1, 1, 0, 0, 0, 0],\n",
    "\"教育系\": [1.5, 2, 0, 1.25, 0, 0, 0, 1, 1, 0]\n",
    "} \n",
    "\n",
    "請幫他做出一個互動介面\n",
    "讓他在選擇科系後可以看到他的加權分數\n",
    "取到小數點後第一位\n",
    "\n",
    "## 範例輸出\n",
    "範例圖示1範例圖示2Hint\n",
    "\n",
    "* 需要先寫出一個函數 輸入某個科系的名稱後 會告訴你分數是多少\n",
    "用 \n",
    "* numpy array 可以快速的算出加權分數\n",
    "* 如何只顯示到小數點第一位可以參考影片 0407 互動範例BMI計算器\n",
    "* 可以用 interact"
   ]
  },
  {
   "cell_type": "code",
   "execution_count": 4,
   "metadata": {},
   "outputs": [
    {
     "name": "stdout",
     "output_type": "stream",
     "text": [
      "dict_keys(['應數系', '公行系', '國貿系', '教育系', '土語系', '財政系', '金融系', '會計系', '法律系'])\n"
     ]
    },
    {
     "data": {
      "application/vnd.jupyter.widget-view+json": {
       "model_id": "f593f3ff488e407fb4a8970911127936"
      }
     },
     "metadata": {},
     "output_type": "display_data"
    },
    {
     "data": {
      "text/plain": [
       "<function __main__.s>"
      ]
     },
     "execution_count": 4,
     "metadata": {},
     "output_type": "execute_result"
    }
   ],
   "source": [
    "weights = {\"土語系\": [2, 2, 0, 1, 0, 0, 0, 1, 1, 0], \n",
    "           \"財政系\": [1, 1.5, 0, 1.5, 0, 0, 0, 0, 0, 0], \n",
    "           \"金融系\": [1, 1.5, 0, 2, 0, 0, 0, 0, 0, 0], \n",
    "           \"國貿系\": [1.5, 2, 0, 2, 0, 0, 0, 0, 0, 0], \n",
    "           \"會計系\": [1.5, 2, 0, 2, 0, 0, 0, 1, 1, 0], \n",
    "           \"法律系\": [1, 2, 0, 1, 0, 0, 0, 1, 0, 1], \n",
    "           \"公行系\": [1, 1.5, 0, 1.25, 0, 0, 0, 0, 0, 1.25], \n",
    "           \"應數系\": [1, 1, 1.5, 0, 1, 1, 0, 0, 0, 0], \n",
    "           \"教育系\": [1.5, 2, 0, 1.25, 0, 0, 0, 1, 1, 0] }\n",
    "score = np.array([86.5, 79.4, 88.2, 96.5, 86.3, 76.8, 96.1, 78.5, 82.4, 88.6])\n",
    "\n",
    "dicScore = {}\n",
    "for key,value in weights.items():\n",
    "    dicScore[key] = score.dot(np.array(value))\n",
    "    \n",
    "\n",
    "def s(系名):\n",
    "    print(\"{:.1f}\".format(dicScore[系名]))\n",
    "\n",
    "print(dicScore.keys())\n",
    "interact(s,系名=list(dicScore.keys()))\n",
    "#interact(s,系名=[\"土語系\", \"財政系\", \"金融系\", \"國貿系\", \"會計系\", \"法律系\", \"公行系\", \"應數系\", \"教育系\"])"
   ]
  },
  {
   "cell_type": "code",
   "execution_count": null,
   "metadata": {
    "collapsed": true
   },
   "outputs": [],
   "source": []
  },
  {
   "cell_type": "markdown",
   "metadata": {},
   "source": [
    "## Challenge Challenge魔鬼挑戰題：\n",
    "（做完可以直接得到一百分）\n",
    "將上週挑戰題一所要求的函式在10行以內寫出來\n",
    "\n",
    "### Hint\n",
    "numpy.dot\n",
    "numpy.where"
   ]
  },
  {
   "cell_type": "code",
   "execution_count": 5,
   "metadata": {},
   "outputs": [
    {
     "name": "stdout",
     "output_type": "stream",
     "text": [
      "[[[ 65.4 ]\n",
      "  [ 63.8 ]\n",
      "  [ 83.4 ]\n",
      "  [ 81.6 ]\n",
      "  [ 87.4 ]\n",
      "  [ 93.  ]\n",
      "  [ 67.95]\n",
      "  [ 65.65]\n",
      "  [ 70.1 ]\n",
      "  [ 44.95]\n",
      "  [ 73.4 ]\n",
      "  [ 81.6 ]\n",
      "  [ 76.8 ]\n",
      "  [ 67.15]\n",
      "  [ 74.95]\n",
      "  [ 71.2 ]\n",
      "  [ 46.6 ]\n",
      "  [ 72.95]\n",
      "  [ 67.2 ]\n",
      "  [ 86.6 ]\n",
      "  [ 66.95]\n",
      "  [ 64.05]\n",
      "  [ 66.8 ]\n",
      "  [ 74.4 ]\n",
      "  [ 45.85]\n",
      "  [ 59.9 ]\n",
      "  [ 58.2 ]\n",
      "  [ 83.4 ]\n",
      "  [ 89.  ]\n",
      "  [ 89.7 ]]\n",
      "\n",
      " [[ 66.6 ]\n",
      "  [ 92.  ]\n",
      "  [ 63.2 ]\n",
      "  [ 79.2 ]\n",
      "  [ 62.6 ]\n",
      "  [ 64.3 ]\n",
      "  [ 83.4 ]\n",
      "  [ 71.8 ]\n",
      "  [ 54.7 ]\n",
      "  [ 77.4 ]\n",
      "  [ 56.4 ]\n",
      "  [ 90.  ]\n",
      "  [ 67.2 ]\n",
      "  [ 68.2 ]\n",
      "  [ 71.8 ]\n",
      "  [ 61.7 ]\n",
      "  [ 83.8 ]\n",
      "  [ 64.25]\n",
      "  [ 82.6 ]\n",
      "  [ 78.6 ]\n",
      "  [ 68.55]\n",
      "  [ 77.8 ]\n",
      "  [ 48.25]\n",
      "  [ 67.15]\n",
      "  [ 54.95]\n",
      "  [ 87.6 ]\n",
      "  [ 75.5 ]\n",
      "  [ 74.1 ]\n",
      "  [ 68.8 ]\n",
      "  [ 90.2 ]]\n",
      "\n",
      " [[ 53.75]\n",
      "  [ 76.  ]\n",
      "  [ 72.8 ]\n",
      "  [ 77.15]\n",
      "  [ 68.65]\n",
      "  [ 59.6 ]\n",
      "  [ 84.2 ]\n",
      "  [ 79.4 ]\n",
      "  [ 58.6 ]\n",
      "  [ 72.35]\n",
      "  [ 50.85]\n",
      "  [ 86.  ]\n",
      "  [ 82.  ]\n",
      "  [ 58.55]\n",
      "  [ 58.8 ]\n",
      "  [ 60.7 ]\n",
      "  [ 66.2 ]\n",
      "  [ 69.7 ]\n",
      "  [ 79.8 ]\n",
      "  [ 74.2 ]\n",
      "  [ 90.6 ]\n",
      "  [ 54.6 ]\n",
      "  [ 87.  ]\n",
      "  [ 87.2 ]\n",
      "  [ 48.65]\n",
      "  [ 67.4 ]\n",
      "  [ 90.4 ]\n",
      "  [ 62.4 ]\n",
      "  [ 88.2 ]\n",
      "  [ 46.4 ]]]\n"
     ]
    }
   ],
   "source": [
    "w1 = np.array([0.2,0.35,0.45])\n",
    "w2 = np.array([0,0.4,0.6])\n",
    "\n",
    "def ADC(ary):\n",
    "    a = ary.dot(w1)\n",
    "    b = ary.dot(w2)\n",
    "    p = np.zeros(a.size)\n",
    "    p = np.where(a>b,a,b)\n",
    "    return p.reshape(3,30,1)\n",
    "\n",
    "\n",
    "score = [np.random.randint(40,100) for _ in range(270)]\n",
    "s = np.array(score).reshape(3,30,3)\n",
    "p = ADC(s)\n",
    "print(p)"
   ]
  },
  {
   "cell_type": "code",
   "execution_count": null,
   "metadata": {},
   "outputs": [],
   "source": []
  },
  {
   "cell_type": "code",
   "execution_count": null,
   "metadata": {
    "collapsed": true
   },
   "outputs": [],
   "source": []
  }
 ],
 "metadata": {
  "anaconda-cloud": {},
  "kernelspec": {
   "display_name": "Python 3",
   "language": "python",
   "name": "python3"
  },
  "language_info": {
   "codemirror_mode": {
    "name": "ipython",
    "version": 3
   },
   "file_extension": ".py",
   "mimetype": "text/x-python",
   "name": "python",
   "nbconvert_exporter": "python",
   "pygments_lexer": "ipython3",
   "version": "3.5.3"
  },
  "widgets": {
   "state": {
    "18fe28ca201b469d89b108315cf630a4": {
     "views": [
      {
       "cell_index": 3
      }
     ]
    },
    "74811ec6ed084ee2ab7dd3b2d4d0284c": {
     "views": [
      {
       "cell_index": 5
      }
     ]
    },
    "db9f08d1551c4cc2821cfa96cd678fd6": {
     "views": [
      {
       "cell_index": 8
      }
     ]
    }
   },
   "version": "1.2.0"
  }
 },
 "nbformat": 4,
 "nbformat_minor": 1
}
