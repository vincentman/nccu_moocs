{
 "cells": [
  {
   "cell_type": "code",
   "execution_count": 33,
   "metadata": {
    "collapsed": true
   },
   "outputs": [],
   "source": [
    "%matplotlib inline\n",
    "import numpy as np\n",
    "import matplotlib.pyplot as plt"
   ]
  },
  {
   "cell_type": "code",
   "execution_count": 34,
   "metadata": {},
   "outputs": [],
   "source": [
    "grades = np.random.randint(0,101,(3,30,3))"
   ]
  },
  {
   "cell_type": "code",
   "execution_count": 35,
   "metadata": {},
   "outputs": [],
   "source": [
    "w1 = np.array([0.2, 0.35, 0.45])\n",
    "w2 = np.array([0, 0.4, 0.6])"
   ]
  },
  {
   "cell_type": "code",
   "execution_count": 36,
   "metadata": {},
   "outputs": [
    {
     "data": {
      "text/plain": [
       "array([[ 52.15,  56.3 ,  32.25,  44.85,  70.1 ,  40.9 ,  60.45,   8.8 ,\n",
       "         59.6 ,  13.35,  29.2 ,  77.8 ,  67.3 ,  17.9 ,  45.6 ,  11.15,\n",
       "         74.6 ,  82.  ,  51.8 ,  36.5 ,  53.35,  12.95,  43.6 ,  51.2 ,\n",
       "         51.45,  51.8 ,  21.4 ,  32.2 ,  57.8 ,  57.85],\n",
       "       [ 46.75,  67.  ,  44.7 ,  38.8 ,  33.9 ,  45.4 ,  67.1 ,  68.8 ,\n",
       "         85.  ,  76.4 ,  72.  ,  71.85,  49.1 ,  15.15,  36.5 ,  45.4 ,\n",
       "         39.25,  19.8 ,  78.  ,  44.4 ,  65.  ,  29.5 ,  72.2 ,  68.2 ,\n",
       "         35.85,  33.2 ,  68.25,  67.8 ,  39.5 ,  63.6 ],\n",
       "       [ 60.55,  73.25,  26.7 ,  91.6 ,  67.55,  27.5 ,  35.8 ,  20.  ,\n",
       "         73.4 ,  48.6 ,  74.4 ,  25.55,  42.6 ,  69.4 ,  20.6 ,  52.9 ,\n",
       "         37.2 ,  58.05,  83.6 ,  29.9 ,  55.8 ,  19.8 ,  73.8 ,  52.4 ,\n",
       "         25.05,  18.25,  34.85,  34.5 ,  19.2 ,  15.2 ]])"
      ]
     },
     "execution_count": 36,
     "metadata": {},
     "output_type": "execute_result"
    }
   ],
   "source": [
    "np.maximum(grades@w1, grades@w2)"
   ]
  },
  {
   "cell_type": "code",
   "execution_count": null,
   "metadata": {
    "collapsed": true
   },
   "outputs": [],
   "source": []
  }
 ],
 "metadata": {
  "kernelspec": {
   "display_name": "Python 3",
   "language": "python",
   "name": "python3"
  },
  "language_info": {
   "codemirror_mode": {
    "name": "ipython",
    "version": 3
   },
   "file_extension": ".py",
   "mimetype": "text/x-python",
   "name": "python",
   "nbconvert_exporter": "python",
   "pygments_lexer": "ipython3",
   "version": "3.5.3"
  }
 },
 "nbformat": 4,
 "nbformat_minor": 2
}
