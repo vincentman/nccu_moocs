{
 "cells": [
  {
   "cell_type": "code",
   "execution_count": 1,
   "metadata": {
    "collapsed": true
   },
   "outputs": [],
   "source": [
    "%matplotlib inline\n",
    "import numpy as np\n",
    "import matplotlib.pyplot as plt"
   ]
  },
  {
   "cell_type": "code",
   "execution_count": 2,
   "metadata": {
    "collapsed": true
   },
   "outputs": [],
   "source": [
    "from ipywidgets import interact_manual, interact"
   ]
  },
  {
   "cell_type": "markdown",
   "metadata": {},
   "source": [
    "# 第一題：抽點系統\n",
    "老師想做一個抽點系統, 也就是按一個鍵就抽一位同學出來。某班同學有大雄、胖虎、小夫、宜靜、小杉。\n",
    "\n",
    "請幫老師寫個點名系統。\n",
    "\n",
    "## Hint\n",
    "interact_manual 用到的函數可以不用有任何參數\n",
    "np.random.choice 會從一個 list 隨機取一個元素出來"
   ]
  },
  {
   "cell_type": "code",
   "execution_count": 3,
   "metadata": {},
   "outputs": [
    {
     "data": {
      "application/vnd.jupyter.widget-view+json": {
       "model_id": "eb310418b81940c7b98883fad8624b31"
      }
     },
     "metadata": {},
     "output_type": "display_data"
    },
    {
     "data": {
      "text/plain": [
       "<function __main__.get_student_randomly>"
      ]
     },
     "execution_count": 3,
     "metadata": {},
     "output_type": "execute_result"
    }
   ],
   "source": [
    "students = ['大雄', '胖虎', '小夫', '宜靜', '小杉']\n",
    "def get_student_randomly():\n",
    "    print(np.random.choice(students))\n",
    "interact_manual(get_student_randomly)"
   ]
  },
  {
   "cell_type": "markdown",
   "metadata": {},
   "source": [
    "# 第二題：變長變短\n",
    "做一個數值滑桿, 數字變大某個 bar 就變長或變短。\n",
    "bar = \"■\"\n",
    "\n",
    "範例輸出\n",
    "image\n",
    "\n",
    "## Hint\n",
    "需要先寫一個輸入數字會印出對應長度bar的function"
   ]
  },
  {
   "cell_type": "code",
   "execution_count": 4,
   "metadata": {},
   "outputs": [
    {
     "data": {
      "application/vnd.jupyter.widget-view+json": {
       "model_id": "be8a19555a41405b849e5ab124d30332"
      }
     },
     "metadata": {},
     "output_type": "display_data"
    },
    {
     "data": {
      "text/plain": [
       "<function __main__.f>"
      ]
     },
     "execution_count": 4,
     "metadata": {},
     "output_type": "execute_result"
    }
   ],
   "source": [
    "def f(n):\n",
    "    return \"■\" * n\n",
    "\n",
    "interact(f,n=10)"
   ]
  },
  {
   "cell_type": "markdown",
   "metadata": {},
   "source": [
    "# 第三題：考試加權分數\n",
    "小明今年考大學\n",
    "依照 [國, 英, 數甲, 數乙, 物, 化, 生, 歷, 地, 公]\n",
    "他的分數分別是 [86.5, 79.4, 88.2, 96.5, 86.3, 76.8, 96.1, 78.5, 82.4, 88.6]\n",
    "而他所想申請的大學各系採計的科目權重分別是\n",
    "{\n",
    "\"土語系\": [2, 2, 0, 1, 0, 0, 0, 1, 1, 0],\n",
    "\"財政系\": [1, 1.5, 0, 1.5, 0, 0, 0, 0, 0, 0],\n",
    "\"金融系\": [1, 1.5, 0, 2, 0, 0, 0, 0, 0, 0],\n",
    "\"國貿系\": [1.5, 2, 0, 2, 0, 0, 0, 0, 0, 0],\n",
    "\"會計系\": [1.5, 2, 0, 2, 0, 0, 0, 1, 1, 0],\n",
    "\"法律系\": [1, 2, 0, 1, 0, 0, 0, 1, 0, 1],\n",
    "\"公行系\": [1, 1.5, 0, 1.25, 0, 0, 0, 0, 0, 1.25],\n",
    "\"應數系\": [1, 1, 1.5, 0, 1, 1, 0, 0, 0, 0],\n",
    "\"教育系\": [1.5, 2, 0, 1.25, 0, 0, 0, 1, 1, 0]\n",
    "} \n",
    "\n",
    "請幫他做出一個互動介面\n",
    "讓他在選擇科系後可以看到他的加權分數\n",
    "取到小數點後第一位\n",
    "\n",
    "範例輸出\n",
    "範例圖示1範例圖示2Hint\n",
    "\n",
    "需要先寫出一個函數 輸入某個科系的名稱後 會告訴你分數是多少\n",
    "用 numpy array 可以快速的算出加權分數\n",
    "如何只顯示到小數點第一位可以參考影片 0407 互動範例BMI計算器\n",
    "可以用 interact"
   ]
  },
  {
   "cell_type": "code",
   "execution_count": 5,
   "metadata": {},
   "outputs": [
    {
     "data": {
      "application/vnd.jupyter.widget-view+json": {
       "model_id": "e8b77d530514454a801cd703800cc59c"
      }
     },
     "metadata": {},
     "output_type": "display_data"
    },
    {
     "data": {
      "text/plain": [
       "<function __main__.cal>"
      ]
     },
     "execution_count": 5,
     "metadata": {},
     "output_type": "execute_result"
    }
   ],
   "source": [
    "score = [86.5, 79.4, 88.2, 96.5, 86.3, 76.8, 96.1, 78.5, 82.4, 88.6] \n",
    "weight = { \"土語系\": [2, 2, 0, 1, 0, 0, 0, 1, 1, 0], \"財政系\": [1, 1.5, 0, 1.5, 0, 0, 0, 0, 0, 0], \"金融系\": [1, 1.5, 0, 2, 0, 0, 0, 0, 0, 0], \"國貿系\": [1.5, 2, 0, 2, 0, 0, 0, 0, 0, 0], \"會計系\": [1.5, 2, 0, 2, 0, 0, 0, 1, 1, 0], \"法律系\": [1, 2, 0, 1, 0, 0, 0, 1, 0, 1], \"公行系\": [1, 1.5, 0, 1.25, 0, 0, 0, 0, 0, 1.25], \"應數系\": [1, 1, 1.5, 0, 1, 1, 0, 0, 0, 0], \"教育系\": [1.5, 2, 0, 1.25, 0, 0, 0, 1, 1, 0] }\n",
    "def cal(w):\n",
    "    score_new = np.array(score).dot(w)\n",
    "    print(\"加權分數: {:.1f}\".format(score_new))\n",
    "    \n",
    "interact(cal, w=weight)"
   ]
  },
  {
   "cell_type": "markdown",
   "metadata": {},
   "source": [
    "# Challenge Challenge魔鬼挑戰題：\n",
    "（做完可以直接得到一百分）\n",
    "將上週挑戰題一所要求的函式在10行以內寫出來\n",
    "\n",
    "## Hint\n",
    "numpy.dot  \n",
    "numpy.where"
   ]
  },
  {
   "cell_type": "code",
   "execution_count": 6,
   "metadata": {},
   "outputs": [
    {
     "data": {
      "text/plain": [
       "array([[[100,  58,  79],\n",
       "        [  0, 100,   0],\n",
       "        [ 73,  27,   0],\n",
       "        [ 63,   0,  38],\n",
       "        [ 46,  39,  30],\n",
       "        [100, 100,   3],\n",
       "        [ 42, 100,  25],\n",
       "        [100, 100,  14],\n",
       "        [100,  22, 100],\n",
       "        [ 48,  25,  45],\n",
       "        [ 32,   0,  34],\n",
       "        [  0,  95,   0],\n",
       "        [  0,   0,   0],\n",
       "        [ 77,  44, 100],\n",
       "        [ 79, 100,  95],\n",
       "        [ 92,  78,   0],\n",
       "        [ 24,  43,   0],\n",
       "        [ 73,  18,  61],\n",
       "        [ 86,  39,  98],\n",
       "        [  0,   0,  50],\n",
       "        [  9,  14,  31],\n",
       "        [  0,  67, 100],\n",
       "        [ 48,  11,  73],\n",
       "        [ 41,   3, 100],\n",
       "        [ 82,  84,  39],\n",
       "        [ 74,   0,  22],\n",
       "        [ 81,  73,  85],\n",
       "        [ 48,  62,  10],\n",
       "        [ 95,  38,  48],\n",
       "        [ 17,  38,   0]],\n",
       "\n",
       "       [[ 14,  57,  57],\n",
       "        [ 46, 100,  53],\n",
       "        [ 15,  52, 100],\n",
       "        [100,  95,  81],\n",
       "        [100,   0,  70],\n",
       "        [ 75,   0, 100],\n",
       "        [ 69,  95,  13],\n",
       "        [ 14, 100,  58],\n",
       "        [  0,   0, 100],\n",
       "        [ 80,   0,  35],\n",
       "        [ 87,  90,   0],\n",
       "        [ 73,  34,   0],\n",
       "        [100,  55,  61],\n",
       "        [ 63, 100,   0],\n",
       "        [100,   0,  35],\n",
       "        [ 58,  98,  46],\n",
       "        [ 20,  54,  23],\n",
       "        [ 28,  66,  34],\n",
       "        [100,  61,  83],\n",
       "        [  0,  20, 100],\n",
       "        [  3,  71,  79],\n",
       "        [ 26, 100,  93],\n",
       "        [ 76,  95, 100],\n",
       "        [100, 100,   0],\n",
       "        [100,   0,  83],\n",
       "        [100,  55,  29],\n",
       "        [ 63,  46,  42],\n",
       "        [  1,  39, 100],\n",
       "        [ 69,   0,  89],\n",
       "        [  4,  70,  41]],\n",
       "\n",
       "       [[ 79,   0,   0],\n",
       "        [ 28,  35,  32],\n",
       "        [100, 100,  62],\n",
       "        [ 36, 100,   0],\n",
       "        [ 32,   2,  81],\n",
       "        [ 95,  58,   0],\n",
       "        [ 96,  78,  15],\n",
       "        [100,  77,  99],\n",
       "        [100,  73, 100],\n",
       "        [100,  23, 100],\n",
       "        [ 93, 100,  27],\n",
       "        [ 18, 100,  87],\n",
       "        [ 27,  96,  46],\n",
       "        [ 16,  72,  27],\n",
       "        [ 73,  78,  16],\n",
       "        [ 86,  36, 100],\n",
       "        [ 77, 100, 100],\n",
       "        [100,  44,   0],\n",
       "        [ 47,   0,  56],\n",
       "        [ 46,  66,  94],\n",
       "        [ 52,  71,   7],\n",
       "        [  0, 100,  20],\n",
       "        [100,  76,   0],\n",
       "        [  0,   0,  86],\n",
       "        [  0, 100,   0],\n",
       "        [ 56,  85,   0],\n",
       "        [100,   9,  42],\n",
       "        [ 28,  75,  27],\n",
       "        [100,  32,  73],\n",
       "        [ 36,  51, 100]]])"
      ]
     },
     "execution_count": 6,
     "metadata": {},
     "output_type": "execute_result"
    }
   ],
   "source": [
    "# 產生平均60分，標準差50，3*30*3個成績\n",
    "scores = np.random.normal(60, 50, 3*30*3).astype(int)\n",
    "#把>100變成100，小於0變成0\n",
    "scores=scores.clip(0, 100)\n",
    "scores.shape = (3, 30, 3)\n",
    "weight1 = [0.2, 0.35, 0.45]\n",
    "weight2 = [0., 0.4, 0.6]\n",
    "scores"
   ]
  },
  {
   "cell_type": "code",
   "execution_count": 7,
   "metadata": {},
   "outputs": [
    {
     "data": {
      "text/plain": [
       "array([[ 75.85,  35.  ,  24.05,  29.7 ,  36.35,  56.35,  54.65,  61.3 ,\n",
       "         72.7 ,  38.6 ,  21.7 ,  33.25,   0.  ,  75.8 ,  93.55,  45.7 ,\n",
       "         19.85,  48.35,  74.95,  22.5 ,  20.65,  68.45,  46.3 ,  54.25,\n",
       "         63.35,  24.7 ,  80.  ,  35.8 ,  53.9 ,  16.7 ],\n",
       "       [ 48.4 ,  68.05,  66.2 ,  89.7 ,  51.5 ,  60.  ,  52.9 ,  63.9 ,\n",
       "         45.  ,  31.75,  48.9 ,  26.5 ,  66.7 ,  47.6 ,  35.75,  66.6 ,\n",
       "         33.25,  44.  ,  78.7 ,  52.  ,  61.  ,  82.05,  93.45,  55.  ,\n",
       "         57.35,  52.3 ,  47.6 ,  58.85,  53.85,  43.75],\n",
       "       [ 15.8 ,  32.25,  82.9 ,  42.2 ,  43.55,  39.3 ,  53.25,  91.5 ,\n",
       "         90.55,  73.05,  65.75,  77.75,  59.7 ,  40.55,  49.1 ,  74.8 ,\n",
       "         95.4 ,  35.4 ,  34.6 ,  74.6 ,  38.4 ,  44.  ,  46.6 ,  38.7 ,\n",
       "         35.  ,  40.95,  42.05,  44.  ,  64.05,  70.05]])"
      ]
     },
     "execution_count": 7,
     "metadata": {},
     "output_type": "execute_result"
    }
   ],
   "source": [
    "#算出權重1的分數\n",
    "scores_w1 = scores.dot(weight1)\n",
    "scores_w1"
   ]
  },
  {
   "cell_type": "code",
   "execution_count": 8,
   "metadata": {},
   "outputs": [
    {
     "data": {
      "text/plain": [
       "array([[  70.6,   40. ,   10.8,   22.8,   33.6,   41.8,   55. ,   48.4,\n",
       "          68.8,   37. ,   20.4,   38. ,    0. ,   77.6,   97. ,   31.2,\n",
       "          17.2,   43.8,   74.4,   30. ,   24.2,   86.8,   48.2,   61.2,\n",
       "          57. ,   13.2,   80.2,   30.8,   44. ,   15.2],\n",
       "       [  57. ,   71.8,   80.8,   86.6,   42. ,   60. ,   45.8,   74.8,\n",
       "          60. ,   21. ,   36. ,   13.6,   58.6,   40. ,   21. ,   66.8,\n",
       "          35.4,   46.8,   74.2,   68. ,   75.8,   95.8,   98. ,   40. ,\n",
       "          49.8,   39.4,   43.6,   75.6,   53.4,   52.6],\n",
       "       [   0. ,   33.2,   77.2,   40. ,   49.4,   23.2,   40.2,   90.2,\n",
       "          89.2,   69.2,   56.2,   92.2,   66. ,   45. ,   40.8,   74.4,\n",
       "         100. ,   17.6,   33.6,   82.8,   32.6,   52. ,   30.4,   51.6,\n",
       "          40. ,   34. ,   28.8,   46.2,   56.6,   80.4]])"
      ]
     },
     "execution_count": 8,
     "metadata": {},
     "output_type": "execute_result"
    }
   ],
   "source": [
    "#算出權重2的分數\n",
    "scores_w2 = np.array(scores).dot(weight2)\n",
    "scores_w2"
   ]
  },
  {
   "cell_type": "code",
   "execution_count": 9,
   "metadata": {},
   "outputs": [
    {
     "data": {
      "text/plain": [
       "array([[  75.85,   40.  ,   24.05,   29.7 ,   36.35,   56.35,   55.  ,\n",
       "          61.3 ,   72.7 ,   38.6 ,   21.7 ,   38.  ,    0.  ,   77.6 ,\n",
       "          97.  ,   45.7 ,   19.85,   48.35,   74.95,   30.  ,   24.2 ,\n",
       "          86.8 ,   48.2 ,   61.2 ,   63.35,   24.7 ,   80.2 ,   35.8 ,\n",
       "          53.9 ,   16.7 ],\n",
       "       [  57.  ,   71.8 ,   80.8 ,   89.7 ,   51.5 ,   60.  ,   52.9 ,\n",
       "          74.8 ,   60.  ,   31.75,   48.9 ,   26.5 ,   66.7 ,   47.6 ,\n",
       "          35.75,   66.8 ,   35.4 ,   46.8 ,   78.7 ,   68.  ,   75.8 ,\n",
       "          95.8 ,   98.  ,   55.  ,   57.35,   52.3 ,   47.6 ,   75.6 ,\n",
       "          53.85,   52.6 ],\n",
       "       [  15.8 ,   33.2 ,   82.9 ,   42.2 ,   49.4 ,   39.3 ,   53.25,\n",
       "          91.5 ,   90.55,   73.05,   65.75,   92.2 ,   66.  ,   45.  ,\n",
       "          49.1 ,   74.8 ,  100.  ,   35.4 ,   34.6 ,   82.8 ,   38.4 ,\n",
       "          52.  ,   46.6 ,   51.6 ,   40.  ,   40.95,   42.05,   46.2 ,\n",
       "          64.05,   80.4 ]])"
      ]
     },
     "execution_count": 9,
     "metadata": {},
     "output_type": "execute_result"
    }
   ],
   "source": [
    "np.where(scores_w1>scores_w2,scores_w1, scores_w2)"
   ]
  },
  {
   "cell_type": "code",
   "execution_count": 10,
   "metadata": {},
   "outputs": [
    {
     "data": {
      "text/plain": [
       "array([[ True, False,  True,  True,  True,  True, False,  True,  True,\n",
       "         True,  True, False, False, False, False,  True,  True,  True,\n",
       "         True, False, False, False, False, False,  True,  True, False,\n",
       "         True,  True,  True],\n",
       "       [False, False, False,  True,  True, False,  True, False, False,\n",
       "         True,  True,  True,  True,  True,  True, False, False, False,\n",
       "         True, False, False, False, False,  True,  True,  True,  True,\n",
       "        False,  True, False],\n",
       "       [ True, False,  True,  True, False,  True,  True,  True,  True,\n",
       "         True,  True, False, False, False,  True,  True, False,  True,\n",
       "         True, False,  True, False,  True, False, False,  True,  True,\n",
       "        False,  True, False]], dtype=bool)"
      ]
     },
     "execution_count": 10,
     "metadata": {},
     "output_type": "execute_result"
    }
   ],
   "source": [
    "scores_w1>scores_w2"
   ]
  },
  {
   "cell_type": "code",
   "execution_count": null,
   "metadata": {
    "collapsed": true
   },
   "outputs": [],
   "source": []
  }
 ],
 "metadata": {
  "kernelspec": {
   "display_name": "Python 3",
   "language": "python",
   "name": "python3"
  },
  "language_info": {
   "codemirror_mode": {
    "name": "ipython",
    "version": 3
   },
   "file_extension": ".py",
   "mimetype": "text/x-python",
   "name": "python",
   "nbconvert_exporter": "python",
   "pygments_lexer": "ipython3",
   "version": "3.5.3"
  }
 },
 "nbformat": 4,
 "nbformat_minor": 2
}
