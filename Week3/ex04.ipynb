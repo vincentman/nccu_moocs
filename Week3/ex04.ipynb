{
 "cells": [
  {
   "cell_type": "code",
   "execution_count": 69,
   "metadata": {
    "collapsed": true
   },
   "outputs": [],
   "source": [
    "%matplotlib inline\n",
    "import numpy as np\n",
    "import matplotlib.pyplot as plt"
   ]
  },
  {
   "cell_type": "code",
   "execution_count": 70,
   "metadata": {
    "collapsed": true
   },
   "outputs": [],
   "source": [
    "breakfast_list = ['古早味', '德合香', '布朗奇早餐', '星巴克', '小貓咪', '傳香飯糰', '米塔', '麥當勞', '摩斯', '7-11', '全家']"
   ]
  },
  {
   "cell_type": "code",
   "execution_count": 71,
   "metadata": {
    "collapsed": true
   },
   "outputs": [],
   "source": [
    "lunch_and_dinner_list = ['小公寓', '波波恰恰', '湯饌', '享窩咖啡', '湯包', '殺人魔王', '呷麵騎士', '提洛斯', '蝴蝶漾', '東京小城', '金鰭', '樂山', 'My麵屋', '李氏餐酒館', '里克', '水煎包', '憩賢樓', '高句麗', '魯智深', '敏忠', '大正亭', '阿里郎', '鬼匠', 'Juicy Bun', '滇味廚房']"
   ]
  },
  {
   "cell_type": "code",
   "execution_count": 72,
   "metadata": {
    "collapsed": true
   },
   "outputs": [],
   "source": [
    "high_price_list = ['星巴克', '摩斯', '小公寓', '享窩咖啡', '金鰭', '李氏餐酒館', '里克', 'Juicy Bun', '滇味廚房']"
   ]
  },
  {
   "cell_type": "code",
   "execution_count": 73,
   "metadata": {
    "collapsed": true
   },
   "outputs": [],
   "source": [
    "snack_list = ['豆花', '政大烤場', '丐幫滷味', '鹹水雞']"
   ]
  },
  {
   "cell_type": "code",
   "execution_count": 74,
   "metadata": {
    "collapsed": true
   },
   "outputs": [],
   "source": [
    "def get_breakfast():\n",
    "    return breakfast_list[np.random.randint(0, len(breakfast_list)-1, 1)[0]]"
   ]
  },
  {
   "cell_type": "code",
   "execution_count": 75,
   "metadata": {
    "collapsed": true
   },
   "outputs": [],
   "source": [
    "def get_lunch(breakfast):\n",
    "    lunch = lunch_and_dinner_list[np.random.randint(0, len(lunch_and_dinner_list)-1, 1)[0]]\n",
    "    if breakfast not in high_price_list:\n",
    "        return lunch\n",
    "    else:\n",
    "        while lunch in high_price_list:\n",
    "            lunch = lunch_and_dinner_list[np.random.randint(0, len(lunch_and_dinner_list)-1, 1)[0]]\n",
    "        return lunch"
   ]
  },
  {
   "cell_type": "code",
   "execution_count": 76,
   "metadata": {
    "collapsed": true
   },
   "outputs": [],
   "source": [
    "def get_dinner(breakfast, lunch):\n",
    "    avoid_high_price = breakfast in high_price_list or lunch in high_price_list\n",
    "    while 1:\n",
    "        dinner = lunch_and_dinner_list[np.random.randint(0, len(lunch_and_dinner_list)-1, 1)[0]]\n",
    "        if lunch == dinner:\n",
    "            continue\n",
    "        if avoid_high_price and dinner in high_price_list:\n",
    "            continue\n",
    "        break\n",
    "    return dinner"
   ]
  },
  {
   "cell_type": "code",
   "execution_count": 77,
   "metadata": {
    "collapsed": true
   },
   "outputs": [],
   "source": [
    "def get_snack(breakfast, lunch, dinner):\n",
    "    if breakfast not in high_price_list and lunch not in high_price_list and dinner not in high_price_list:\n",
    "        return snack_list[np.random.randint(0, len(snack_list)-1, 1)[0]]"
   ]
  },
  {
   "cell_type": "code",
   "execution_count": 78,
   "metadata": {},
   "outputs": [
    {
     "name": "stdout",
     "output_type": "stream",
     "text": [
      "早餐：米塔\n",
      "午餐：李氏餐酒館\n",
      "晚餐：阿里郎\n"
     ]
    }
   ],
   "source": [
    "breakfast = get_breakfast()\n",
    "lunch = get_lunch(breakfast)\n",
    "dinner = get_dinner(breakfast, lunch)\n",
    "snack = get_snack(breakfast, lunch, dinner)\n",
    "print(\"早餐：{}\".format(breakfast))\n",
    "print(\"午餐：{}\".format(lunch))\n",
    "print(\"晚餐：{}\".format(dinner))\n",
    "if snack is not None:\n",
    "    print(\"宵夜：{}\".format(snack))"
   ]
  },
  {
   "cell_type": "markdown",
   "metadata": {},
   "source": [
    "# 測試程式碼"
   ]
  },
  {
   "cell_type": "code",
   "execution_count": 79,
   "metadata": {},
   "outputs": [
    {
     "name": "stdout",
     "output_type": "stream",
     "text": [
      "測試成功!\n"
     ]
    }
   ],
   "source": [
    "for i in range(100):\n",
    "    breakfast = get_breakfast()\n",
    "    lunch = get_lunch(breakfast)\n",
    "    dinner = get_dinner(breakfast, lunch)\n",
    "    snack = get_snack(breakfast, lunch, dinner)\n",
    "    assert lunch != dinner, \"發生錯誤：午餐與晚餐不可為同一家!\"\n",
    "    count = 0\n",
    "    if breakfast in high_price_list:\n",
    "        count += 1\n",
    "    if lunch in high_price_list:\n",
    "        count += 1\n",
    "    if dinner in high_price_list:\n",
    "        count += 1\n",
    "    assert count <= 1, \"發生錯誤：只能有一餐是high_price!\"\n",
    "    if count == 0:\n",
    "        assert snack is not None, \"發生錯誤：應該要有宵夜!\"\n",
    "print(\"測試成功!\")"
   ]
  },
  {
   "cell_type": "code",
   "execution_count": null,
   "metadata": {
    "collapsed": true
   },
   "outputs": [],
   "source": []
  }
 ],
 "metadata": {
  "kernelspec": {
   "display_name": "Python 3",
   "language": "python",
   "name": "python3"
  },
  "language_info": {
   "codemirror_mode": {
    "name": "ipython",
    "version": 3
   },
   "file_extension": ".py",
   "mimetype": "text/x-python",
   "name": "python",
   "nbconvert_exporter": "python",
   "pygments_lexer": "ipython3",
   "version": "3.5.3"
  }
 },
 "nbformat": 4,
 "nbformat_minor": 2
}
