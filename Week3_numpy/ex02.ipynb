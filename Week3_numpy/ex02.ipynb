{
 "cells": [
  {
   "cell_type": "code",
   "execution_count": 25,
   "metadata": {
    "collapsed": true
   },
   "outputs": [],
   "source": [
    "%matplotlib inline\n",
    "import numpy as np\n",
    "import matplotlib.pyplot as plt"
   ]
  },
  {
   "cell_type": "code",
   "execution_count": 26,
   "metadata": {
    "collapsed": true
   },
   "outputs": [],
   "source": [
    "A = np.zeros((10,5))\n",
    "for i in range(10):\n",
    "    A[i] = np.random.randint(0,100,5)"
   ]
  },
  {
   "cell_type": "code",
   "execution_count": 27,
   "metadata": {},
   "outputs": [
    {
     "data": {
      "text/plain": [
       "array([[ 12.,  11.,  28.,   6.,  53.],\n",
       "       [ 12.,  27.,  18.,   8.,   3.],\n",
       "       [ 60.,  59.,  90.,  85.,  49.],\n",
       "       [ 95.,  24.,  15.,  54.,  55.],\n",
       "       [ 24.,   9.,  37.,  23.,  60.],\n",
       "       [ 66.,  46.,  73.,  23.,   1.],\n",
       "       [ 87.,  17.,  64.,  96.,  93.],\n",
       "       [ 82.,  21.,   1.,  57.,  23.],\n",
       "       [ 87.,  79.,  65.,   5.,  68.],\n",
       "       [ 32.,  14.,  54.,  76.,  27.]])"
      ]
     },
     "execution_count": 27,
     "metadata": {},
     "output_type": "execute_result"
    }
   ],
   "source": [
    "A"
   ]
  },
  {
   "cell_type": "code",
   "execution_count": 28,
   "metadata": {
    "collapsed": true
   },
   "outputs": [],
   "source": [
    "B = np.zeros((10,5))\n",
    "for i in range(10):\n",
    "    B[i] = np.random.randint(0,100,5)"
   ]
  },
  {
   "cell_type": "code",
   "execution_count": 29,
   "metadata": {},
   "outputs": [
    {
     "data": {
      "text/plain": [
       "array([[ 35.,  85.,  33.,  76.,  28.],\n",
       "       [ 15.,  82.,  84.,  90.,   9.],\n",
       "       [ 59.,  62.,  76.,  90.,   2.],\n",
       "       [ 71.,  21.,  86.,  33.,  45.],\n",
       "       [ 28.,  82.,  13.,  75.,  40.],\n",
       "       [ 72.,  21.,  29.,  41.,  43.],\n",
       "       [ 41.,  76.,  67.,  30.,  12.],\n",
       "       [ 76.,  23.,  44.,  61.,  39.],\n",
       "       [ 25.,  67.,  41.,  88.,  61.],\n",
       "       [ 99.,  31.,  35.,  36.,  27.]])"
      ]
     },
     "execution_count": 29,
     "metadata": {},
     "output_type": "execute_result"
    }
   ],
   "source": [
    "B"
   ]
  },
  {
   "cell_type": "code",
   "execution_count": 30,
   "metadata": {
    "collapsed": true
   },
   "outputs": [],
   "source": [
    "C = np.zeros((10,5))\n",
    "for i in range(10):\n",
    "    C[i] = np.random.randint(0,100,5)"
   ]
  },
  {
   "cell_type": "code",
   "execution_count": 31,
   "metadata": {},
   "outputs": [
    {
     "data": {
      "text/plain": [
       "array([[ 15.,  45.,  73.,  95.,  33.],\n",
       "       [ 58.,  77.,  11.,  40.,  35.],\n",
       "       [ 57.,  96.,  79.,  37.,  24.],\n",
       "       [  5.,  57.,  47.,  59.,  83.],\n",
       "       [ 69.,  30.,  70.,  28.,  96.],\n",
       "       [  6.,  87.,  71.,  89.,  28.],\n",
       "       [ 51.,  66.,  68.,  29.,  23.],\n",
       "       [ 23.,  40.,  38.,  34.,  10.],\n",
       "       [ 71.,   4.,  84.,  64.,   2.],\n",
       "       [ 52.,  96.,  43.,  54.,  60.]])"
      ]
     },
     "execution_count": 31,
     "metadata": {},
     "output_type": "execute_result"
    }
   ],
   "source": [
    "C"
   ]
  },
  {
   "cell_type": "code",
   "execution_count": 32,
   "metadata": {
    "collapsed": true
   },
   "outputs": [],
   "source": [
    "weights = np.array([0.25, 0.25, 0.25, 0.15, 0.1])"
   ]
  },
  {
   "cell_type": "code",
   "execution_count": 33,
   "metadata": {},
   "outputs": [
    {
     "data": {
      "text/plain": [
       "array([[ 18.95,  15.75,  69.9 ,  47.1 ,  26.95,  49.8 ,  65.7 ,  36.85,\n",
       "         65.3 ,  39.1 ],\n",
       "       [ 52.45,  59.65,  62.95,  53.95,  46.  ,  40.95,  51.7 ,  48.8 ,\n",
       "         52.55,  49.35],\n",
       "       [ 52.45,  59.65,  62.95,  53.95,  46.  ,  40.95,  51.7 ,  48.8 ,\n",
       "         52.55,  49.35]])"
      ]
     },
     "execution_count": 33,
     "metadata": {},
     "output_type": "execute_result"
    }
   ],
   "source": [
    "np.array([np.dot(A,weights), np.dot(B,weights), np.dot(B, weights)])"
   ]
  },
  {
   "cell_type": "code",
   "execution_count": null,
   "metadata": {
    "collapsed": true
   },
   "outputs": [],
   "source": []
  }
 ],
 "metadata": {
  "kernelspec": {
   "display_name": "Python 3",
   "language": "python",
   "name": "python3"
  },
  "language_info": {
   "codemirror_mode": {
    "name": "ipython",
    "version": 3
   },
   "file_extension": ".py",
   "mimetype": "text/x-python",
   "name": "python",
   "nbconvert_exporter": "python",
   "pygments_lexer": "ipython3",
   "version": "3.5.3"
  }
 },
 "nbformat": 4,
 "nbformat_minor": 2
}
