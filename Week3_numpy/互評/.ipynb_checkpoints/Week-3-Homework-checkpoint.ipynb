{
 "cells": [
  {
   "cell_type": "markdown",
   "metadata": {},
   "source": [
    "# [第三週作業](http://moocs.nccu.edu.tw/exercise/640)\n",
    "\n",
    "作業 4 題我都試著做了"
   ]
  },
  {
   "cell_type": "code",
   "execution_count": 1,
   "metadata": {
    "collapsed": true
   },
   "outputs": [],
   "source": [
    "%matplotlib inline\n",
    "import numpy as np\n",
    "import matplotlib.pyplot as plt\n",
    "from IPython.core.display import display"
   ]
  },
  {
   "cell_type": "markdown",
   "metadata": {},
   "source": [
    "## 第一題\n",
    "題目：給定一個矩陣`m`，裡面的值都大於0。請將矩陣m裡大於等於1的數字都變成1，小於1的變成0。`m = np.array([[0,1,10],[2,6,7]])`。提示：使用巢狀迴圈(nested loop)加判斷式\n",
    "\n",
    "---\n",
    "\n",
    "* 本週剛教 `m[m>=1]` 這種 boolean indexing，還說「能不用迴圈就不用」，此題卻提示用巢狀迴圈，很怪\n",
    "* 題目說「(矩陣m)裡面的值都大於0」但範例中 `m[0][0] == 0` 就沒有大於 0"
   ]
  },
  {
   "cell_type": "code",
   "execution_count": 2,
   "metadata": {},
   "outputs": [
    {
     "name": "stdout",
     "output_type": "stream",
     "text": [
      "原本的 m:\n",
      "array([[ 1.32669907,  1.81769663,  1.18758724],\n",
      "       [ 0.71059703,  0.10713474,  0.31629817]])\n",
      "處理後 m:\n",
      "array([[ 1.,  1.,  1.],\n",
      "       [ 0.,  0.,  0.]])\n",
      "m0，用不同作法，要跟 m 相等:\n",
      "array([[ 1.,  1.,  1.],\n",
      "       [ 0.,  0.,  0.]])\n",
      "m1，用不同作法，要跟 m 相等:\n",
      "array([[ 1.,  1.,  1.],\n",
      "       [ 0.,  0.,  0.]])\n"
     ]
    }
   ],
   "source": [
    "# 亂數產生一個跟題目形狀相同的 array (2, 3)\n",
    "m = np.random.random_sample((2, 3))*2\n",
    "m0 = m.copy()\n",
    "m1 = m.copy()\n",
    "\n",
    "# 巢狀迴圈解法\n",
    "print('原本的 m:\\n%r' % (m,))\n",
    "for i in range(m.shape[0]):\n",
    "    for j in range(m.shape[1]):\n",
    "        m[i][j] = 1 if m[i][j] >= 1 else 0\n",
    "print('處理後 m:\\n%r' % (m,))\n",
    "\n",
    "# boolean indexing 配合指定運算解法\n",
    "i = m0 >= 1\n",
    "m0[i] = 1\n",
    "m0[np.logical_not(i)] = 0\n",
    "print('m0，用不同作法，要跟 m 相等:\\n%r' % (m0,))\n",
    "\n",
    "# nditer 一層迴圈解法\n",
    "for x in np.nditer(m1, op_flags=['readwrite']):\n",
    "    x[...] = 1 if x >= 1 else 0\n",
    "print('m1，用不同作法，要跟 m 相等:\\n%r' % (m1,))    \n",
    "\n",
    "# 驗證\n",
    "# m 裡只有 1 跟 0\n",
    "assert(np.logical_or(m == 1, m == 0).all())\n",
    "# 3 個解法算出來一樣\n",
    "assert(np.array_equal(m, m0) and np.array_equal(m, m1))"
   ]
  },
  {
   "cell_type": "markdown",
   "metadata": {},
   "source": [
    "### API Reference\n",
    "* [Numpy: Iterating Over Arrays](https://docs.scipy.org/doc/numpy-1.13.0/reference/arrays.nditer.html)"
   ]
  },
  {
   "cell_type": "markdown",
   "metadata": {},
   "source": [
    "## 第二題\n",
    "有A,B,C三個班級，每班皆有10個學生，期中考結束後，老師希望計算各班級每位學生的加權平均成績。請隨機產生3個班級的成績單,每班10人,共五科,權重為`weights=[0.25,0.25,0.25,0.15,0.10]`。請算出班級加權平均成績，並以一個array輸出。"
   ]
  },
  {
   "cell_type": "code",
   "execution_count": 3,
   "metadata": {},
   "outputs": [
    {
     "name": "stdout",
     "output_type": "stream",
     "text": [
      "3班、每班10人的5科加權平均成績：\n",
      "[[ 49.05  36.8   35.6   42.3   44.4   51.15  52.1   32.    58.75  47.95]\n",
      " [ 66.6   46.2   60.95  44.    64.95  71.3   46.9   73.5   49.6   45.1 ]\n",
      " [ 59.4   52.2   19.65  60.6   40.25  39.9   49.    73.9   47.55  78.65]]\n"
     ]
    }
   ],
   "source": [
    "# 3班、每班10人、5科\n",
    "raw_score = np.random.randint(0, 100+1, (3, 10, 5))\n",
    "weights = [.25, .25, .25, .15, .10] \n",
    "\n",
    "assert(np.sum(weights) == 1.0)\n",
    "score = raw_score @ weights # `@` 是矩陣乘法 \n",
    "print('3班、每班10人的5科加權平均成績：')\n",
    "print(score)"
   ]
  },
  {
   "cell_type": "markdown",
   "metadata": {},
   "source": [
    "## 挑戰題一\n",
    "請定義一個全班高微成績的函式，輸入是一個 (3, 30, 3) 的 array，表示3個班級中30位學生的成績(小考，期中考，期末考)。目標輸出則是一個(3, 30, 1)的array，表示所有學生的期末成績，期末成績計算方式如下：\n",
    "1. 小考20%，期中考35%，期末考45%  \n",
    "2. 期中考40%，期末考60%。  \n",
    "擇優作為期末成績\n",
    " \n",
    "Hint: 可以用雙重for迴圈 分別跑過班級跟人。可以先設一個array裝算出來的成績。記得要用return。 請做個測試，檢驗你的結果，方便同學評分。\n",
    "\n",
    "---\n",
    "\n",
    "* 程式中 __`final_score()`__ 即為題目要求的函式\n",
    "* 我把題目「輸出則是一個(3, 30, 1)的array」解釋成輸出要是 shape 為 `(3, 30, 1)` 的 _三維_ array，但有些人輸出的可能是 shape 為 `(3, 30)` 的 _二維_ array\n",
    "* 我當然認為我的解讀比較合理，否則題目寫 `(3, 30)` 就好了，不必寫 `(3, 30, 1)` 😉"
   ]
  },
  {
   "cell_type": "code",
   "execution_count": 4,
   "metadata": {},
   "outputs": [
    {
     "name": "stdout",
     "output_type": "stream",
     "text": [
      "為方便「目測」評分，先帶入比較小量 (2, 2, 3) 資料。\n",
      "原始成績:\n",
      "array([[[   0.,  100.,  100.],\n",
      "        [   0.,    0.,    0.]],\n",
      "\n",
      "       [[   0.,    0.,    0.],\n",
      "        [ 100.,  100.,    0.]]])\n",
      "加權法0:\n",
      "array([[[ 80.],\n",
      "        [  0.]],\n",
      "\n",
      "       [[  0.],\n",
      "        [ 55.]]])\n",
      "加權法1:\n",
      "array([[[ 100.],\n",
      "        [   0.]],\n",
      "\n",
      "       [[   0.],\n",
      "        [  40.]]])\n",
      "期末成績(加權法0、1，擇優):\n",
      "array([[[ 100.],\n",
      "        [   0.]],\n",
      "\n",
      "       [[   0.],\n",
      "        [  55.]]])\n",
      "題目要求的 (3, 30, 3) 陣列，數字多，就直接用程式比較，不印出來了。\n"
     ]
    }
   ],
   "source": [
    "w0 = np.array([ .2,  .35, .45])\n",
    "w1 = np.array([0.0,  .4,  .6 ])\n",
    "\n",
    "def final_score(a):\n",
    "    return np.maximum(a@w0, a@w1).reshape(a.shape[0], a.shape[1], 1)\n",
    "\n",
    "# 小型測試\n",
    "r0 = np.array([[[0, 100.0, 100.0], [100.0, 100.0, 0.0]]])\n",
    "f0 = np.array([[[100.0], [55.0]]])\n",
    "assert(np.array_equal(final_score(r0), f0))\n",
    "\n",
    "r1 = np.array([[[0, 100.0, 100.0], [0, 0, 0]],\n",
    "               [[0, 0, 0], [100.0, 100.0, 0]]])\n",
    "f1 = np.array([[[100.0], [0.0]], [[0.0], [55.0]]])\n",
    "assert(np.array_equal(final_score(r1), f1))\n",
    "print('為方便「目測」評分，先帶入比較小量 (2, 2, 3) 資料。')\n",
    "print('原始成績:\\n%r' % (r1,))\n",
    "print('加權法0:\\n%r' % ((r1@w0).reshape(r1.shape[0], r1.shape[1], 1),))\n",
    "print('加權法1:\\n%r' % ((r1@w1).reshape(r1.shape[0], r1.shape[1], 1),))\n",
    "print('期末成績(加權法0、1，擇優):\\n%r' % (f1,))\n",
    "print('題目要求的 (3, 30, 3) 陣列，數字多，就直接用程式比較，不印出來了。')\n",
    "\n",
    "# 亂數資料，題目要求的 (3, 30, 3) 陣列\n",
    "raw_score = np.random.randint(0, 100+1, (3, 30, 3))\n",
    "s = final_score(raw_score)\n",
    "\n",
    "# 驗證：\n",
    "# 形狀對\n",
    "assert(s.shape == (3, 30, 1))\n",
    "# 權重沒打錯\n",
    "assert(np.sum(w0) == 1.0)\n",
    "assert(np.sum(w1) == 1.0)\n",
    "# 兩種算法擇優\n",
    "assert((s >= (raw_score@w0).reshape(3, 30, 1)).all())\n",
    "assert((s >= (raw_score@w1).reshape(3, 30, 1)).all())\n",
    "# 期末成績介於0到100\n",
    "assert(np.logical_and(0 <= s, s <= 100).all())"
   ]
  },
  {
   "cell_type": "markdown",
   "metadata": {},
   "source": [
    "## 世紀魔鬼挑戰題（做完可以直接得到一百分）\n",
    "美食沙漠的餐點推薦系統\n",
    "Susan是個數學高手，每天專心研究高深數學理論，因此沒有時間想每一餐要吃什麽，\n",
    "請依照他的需求幫他做出各餐的推薦餐點。\n",
    " \n",
    "給定以下list:(...)\n",
    "\n",
    "請遵守以下規則：\n",
    "1. 依照早餐-午餐-晚餐的順序決定\n",
    "2. 餐點必須用亂數決定\n",
    "3. 除了定義以上的list，不可以在其他地方出現字串\n",
    " (也就是說不可以決定午餐吃'小公寓'後，另外定義dinner = ['波波恰恰', '湯饌', '享窩咖啡',...]）\n",
    "4. 一天裡面只可以有一餐是屬於high_price\n",
    "5. 午餐跟晚餐我不想吃同一家\n",
    "6. 如果當天三餐都沒有屬於high_price的話，就要吃宵夜\n",
    " \n",
    "### 範例輸出\n",
    "Case 1:\n",
    "早餐：古早味\n",
    "午餐：提洛斯\n",
    "晚餐：大正亭\n",
    "宵夜：鹹水雞\n",
    "Case 2:\n",
    "早餐：傳香飯糰\n",
    "午餐：小公寓\n",
    "晚餐：鬼匠\n",
    "\n",
    "---\n",
    "\n",
    "* `meal_list_gen()` 會傳回推薦餐點，如：`['傳香飯糰', '呷麵騎士', '蝴蝶漾', '豆花']`\n",
    "* 輸出中，右方有錢飛走了圖示(💸)代表是 high_price 餐廳\n",
    "* 輸出的下一格，我用程式將 `meal_list_gen()` 跑 `N` 遍，並驗證題目要求"
   ]
  },
  {
   "cell_type": "code",
   "execution_count": 5,
   "metadata": {},
   "outputs": [
    {
     "name": "stdout",
     "output_type": "stream",
     "text": [
      "早餐：星巴克\t💸\n",
      "午餐：湯包\n",
      "晚餐：蝴蝶漾\n"
     ]
    }
   ],
   "source": [
    "breakfast_list = ['古早味', '德合香', '布朗奇早餐', '星巴克', '小貓咪', '傳香飯糰', '米塔', '麥當勞', '摩斯', '7-11', '全家']\n",
    "lunch_and_dinner_list = ['小公寓', '波波恰恰', '湯饌', '享窩咖啡', '湯包', '殺人魔王', '呷麵騎士', '提洛斯', '蝴蝶漾', '東京小城', '金鰭', '樂山', 'My麵屋', '李氏餐酒館', '里克', '水煎包', '憩賢樓', '高句麗', '魯智深', '敏忠', '大正亭', '阿里郎', '鬼匠', 'Juicy Bun', '滇味廚房']\n",
    "high_price_list = ['星巴克', '摩斯', '小公寓', '享窩咖啡', '金鰭', '李氏餐酒館', '里克', 'Juicy Bun', '滇味廚房']\n",
    "snack_list = ['豆花', '政大烤場', '丐幫滷味', '鹹水雞']\n",
    "\n",
    "# 驗證 high_price 與 snack 無交集\n",
    "assert(not (set(high_price_list) & set(snack_list)))\n",
    "# 驗證 breakfast 與 lunch_and_dinner 無交集\n",
    "assert(not (set(breakfast_list) & set(lunch_and_dinner_list)))\n",
    "\n",
    "def meal_list_gen():\n",
    "    '-> [早餐, 午餐, 晚餐， 宵夜(可能是 None)]'\n",
    "    out = []\n",
    "    for l in [breakfast_list, lunch_and_dinner_list, lunch_and_dinner_list]:\n",
    "        t = np.random.choice(l)\n",
    "        while (t in out) or ((t in high_price_list) and (set(out) & set(high_price_list))):\n",
    "            t = np.random.choice(l)\n",
    "        out.append(t)\n",
    "\n",
    "    if not (set(out) & set(high_price_list)):\n",
    "        out.append(np.random.choice(snack_list))\n",
    "    else:\n",
    "        out.append(None)\n",
    "    return out\n",
    "\n",
    "meals = meal_list_gen()\n",
    "for n, m in zip(['早餐', '午餐', '晚餐', '宵夜'], meals):\n",
    "    if m is None:\n",
    "        continue\n",
    "    if m in high_price_list:\n",
    "        end = '\\t💸\\n'\n",
    "    else:\n",
    "        end = '\\n'\n",
    "    print('%s：%s' % (n, m), end=end)"
   ]
  },
  {
   "cell_type": "code",
   "execution_count": 6,
   "metadata": {
    "collapsed": true
   },
   "outputs": [],
   "source": [
    "# 驗證\n",
    "N = 1000\n",
    "for i in range(N):\n",
    "    meals = meal_list_gen()\n",
    "    try:\n",
    "        # meals[0] 在早餐列表， 1、2 在午晚餐列表\n",
    "        assert(meals[0] in breakfast_list)\n",
    "        assert(meals[1] in lunch_and_dinner_list)\n",
    "        assert(meals[2] in lunch_and_dinner_list)\n",
    "        # 午、晚餐不同\n",
    "        assert(meals[1] != meals[2])\n",
    "        h = sum(1 for x in meals if x in high_price_list)\n",
    "        # 最多一次高價\n",
    "        assert(h in {0, 1})\n",
    "        # 沒高價就吃宵夜，否則不吃\n",
    "        if not h:\n",
    "            assert(meals[3] in snack_list)\n",
    "        else:\n",
    "            assert(meals[3] is None)\n",
    "    except AssertionError as e:\n",
    "        print(meals)\n",
    "        raise"
   ]
  }
 ],
 "metadata": {
  "kernelspec": {
   "display_name": "Python 3",
   "language": "python",
   "name": "python3"
  },
  "language_info": {
   "codemirror_mode": {
    "name": "ipython",
    "version": 3
   },
   "file_extension": ".py",
   "mimetype": "text/x-python",
   "name": "python",
   "nbconvert_exporter": "python",
   "pygments_lexer": "ipython3",
   "version": "3.5.3"
  }
 },
 "nbformat": 4,
 "nbformat_minor": 2
}
