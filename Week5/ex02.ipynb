{
 "cells": [
  {
   "cell_type": "code",
   "execution_count": 71,
   "metadata": {
    "collapsed": true
   },
   "outputs": [],
   "source": [
    "%matplotlib inline\n",
    "import numpy as np\n",
    "import matplotlib.pyplot as plt\n",
    "import pandas as pd"
   ]
  },
  {
   "cell_type": "code",
   "execution_count": 72,
   "metadata": {
    "collapsed": true
   },
   "outputs": [],
   "source": [
    "def matrix_plus(*m):\n",
    "    if len(m) != 2:\n",
    "        raise Exception('請輸入兩個矩陣')\n",
    "    if m[0].shape != (5,5) or m[1].shape != (5,5):\n",
    "        raise Exception('請輸入5*5的矩陣')\n",
    "    return m[0] + m[1]    "
   ]
  },
  {
   "cell_type": "code",
   "execution_count": 73,
   "metadata": {},
   "outputs": [
    {
     "name": "stdout",
     "output_type": "stream",
     "text": [
      "[[124  45  92 149 132]\n",
      " [128 104 123  91 139]\n",
      " [ 95 174 106 145 123]\n",
      " [166  33  87  26 157]\n",
      " [ 20  43  77 141  23]]\n"
     ]
    }
   ],
   "source": [
    "print(matrix_plus(np.random.randint(0,101,size=(5,5)), np.random.randint(0,101,size=(5,5))))"
   ]
  },
  {
   "cell_type": "code",
   "execution_count": 74,
   "metadata": {},
   "outputs": [
    {
     "name": "stdout",
     "output_type": "stream",
     "text": [
      "請輸入5*5的矩陣\n"
     ]
    }
   ],
   "source": [
    "try:\n",
    "    matrix_plus(np.random.randint(0,101,size=(5,3)), np.random.randint(0,101,size=(5,5)))\n",
    "except Exception as e:\n",
    "    print(e)"
   ]
  },
  {
   "cell_type": "code",
   "execution_count": 75,
   "metadata": {},
   "outputs": [
    {
     "name": "stdout",
     "output_type": "stream",
     "text": [
      "請輸入兩個矩陣\n"
     ]
    }
   ],
   "source": [
    "try:\n",
    "    matrix_plus(np.random.randint(0,101,size=(5,5)))\n",
    "except Exception as e:\n",
    "    print(e)"
   ]
  }
 ],
 "metadata": {
  "kernelspec": {
   "display_name": "Python 3",
   "language": "python",
   "name": "python3"
  },
  "language_info": {
   "codemirror_mode": {
    "name": "ipython",
    "version": 3
   },
   "file_extension": ".py",
   "mimetype": "text/x-python",
   "name": "python",
   "nbconvert_exporter": "python",
   "pygments_lexer": "ipython3",
   "version": "3.5.3"
  }
 },
 "nbformat": 4,
 "nbformat_minor": 2
}
