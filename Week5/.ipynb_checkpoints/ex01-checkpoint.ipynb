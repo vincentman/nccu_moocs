{
 "cells": [
  {
   "cell_type": "markdown",
   "metadata": {},
   "source": [
    "# 第一題_算閏年\n",
    "請定義一個函式，讀進一個年份，輸出是不是閏年。\n",
    "\n",
    "提示：\n",
    "目前使用的格里高利曆閏年規則如下：\n",
    "\n",
    "4的倍數是可能的。\n",
    "100的倍數是不可能的。\n",
    "400的倍數是可能的。"
   ]
  },
  {
   "cell_type": "code",
   "execution_count": null,
   "metadata": {
    "collapsed": true
   },
   "outputs": [],
   "source": [
    "def is_leap_year(year):\n",
    "    if year%4==0 and year%100!=0 :\n",
    "        return True\n",
    "    elif year%400==0:\n",
    "        return True\n",
    "    else:\n",
    "        return False"
   ]
  },
  {
   "cell_type": "code",
   "execution_count": null,
   "metadata": {},
   "outputs": [],
   "source": [
    "while 1:\n",
    "    year = input('請輸入年份(按0離開)：')\n",
    "    if int(year) == 0:\n",
    "        print(\"bye!\")\n",
    "        break\n",
    "    if not year.isdigit():\n",
    "        print(\"請輸入數字!\")\n",
    "        continue\n",
    "    print('{}是閏年'.format(year)) if is_leap_year(int(year)) else print('{}不是閏年'.format(year))\n"
   ]
  },
  {
   "cell_type": "code",
   "execution_count": null,
   "metadata": {
    "collapsed": true
   },
   "outputs": [],
   "source": []
  }
 ],
 "metadata": {
  "kernelspec": {
   "display_name": "Python 3",
   "language": "python",
   "name": "python3"
  },
  "language_info": {
   "codemirror_mode": {
    "name": "ipython",
    "version": 3
   },
   "file_extension": ".py",
   "mimetype": "text/x-python",
   "name": "python",
   "nbconvert_exporter": "python",
   "pygments_lexer": "ipython3",
   "version": "3.5.3"
  }
 },
 "nbformat": 4,
 "nbformat_minor": 2
}
