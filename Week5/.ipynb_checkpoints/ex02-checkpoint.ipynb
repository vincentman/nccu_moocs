{
 "cells": [
  {
   "cell_type": "code",
   "execution_count": 76,
   "metadata": {
    "collapsed": true
   },
   "outputs": [],
   "source": [
    "import numpy as np"
   ]
  },
  {
   "cell_type": "code",
   "execution_count": 77,
   "metadata": {
    "collapsed": true
   },
   "outputs": [],
   "source": [
    "def matrix_plus(*m):\n",
    "    if len(m) != 2:\n",
    "        raise Exception('請輸入兩個矩陣')\n",
    "    if m[0].shape != (5,5) or m[1].shape != (5,5):\n",
    "        raise Exception('請輸入5*5的矩陣')\n",
    "    return m[0] + m[1]    "
   ]
  },
  {
   "cell_type": "code",
   "execution_count": 78,
   "metadata": {},
   "outputs": [
    {
     "name": "stdout",
     "output_type": "stream",
     "text": [
      "[[110 124 128  90  74]\n",
      " [163 102  96  73  36]\n",
      " [106 125  73 124  95]\n",
      " [ 51 104  77  72 140]\n",
      " [ 81 109 178  28  81]]\n"
     ]
    }
   ],
   "source": [
    "print(matrix_plus(np.random.randint(0,101,size=(5,5)), np.random.randint(0,101,size=(5,5))))"
   ]
  },
  {
   "cell_type": "code",
   "execution_count": 79,
   "metadata": {},
   "outputs": [
    {
     "name": "stdout",
     "output_type": "stream",
     "text": [
      "請輸入5*5的矩陣\n"
     ]
    }
   ],
   "source": [
    "try:\n",
    "    matrix_plus(np.random.randint(0,101,size=(5,3)), np.random.randint(0,101,size=(5,5)))\n",
    "except Exception as e:\n",
    "    print(e)"
   ]
  },
  {
   "cell_type": "code",
   "execution_count": 80,
   "metadata": {},
   "outputs": [
    {
     "name": "stdout",
     "output_type": "stream",
     "text": [
      "請輸入兩個矩陣\n"
     ]
    }
   ],
   "source": [
    "try:\n",
    "    matrix_plus(np.random.randint(0,101,size=(5,5)))\n",
    "except Exception as e:\n",
    "    print(e)"
   ]
  }
 ],
 "metadata": {
  "kernelspec": {
   "display_name": "Python 3",
   "language": "python",
   "name": "python3"
  },
  "language_info": {
   "codemirror_mode": {
    "name": "ipython",
    "version": 3
   },
   "file_extension": ".py",
   "mimetype": "text/x-python",
   "name": "python",
   "nbconvert_exporter": "python",
   "pygments_lexer": "ipython3",
   "version": "3.5.3"
  }
 },
 "nbformat": 4,
 "nbformat_minor": 2
}
